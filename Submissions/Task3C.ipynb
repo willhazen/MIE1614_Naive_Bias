{
  "cells": [
    {
      "cell_type": "markdown",
      "metadata": {
        "id": "view-in-github",
        "colab_type": "text"
      },
      "source": [
        "<a href=\"https://colab.research.google.com/github/Nim-ah/MIE1614_Naive_Bias/blob/main/Submissions/Task3C.ipynb\" target=\"_parent\"><img src=\"https://colab.research.google.com/assets/colab-badge.svg\" alt=\"Open In Colab\"/></a>"
      ]
    },
    {
      "cell_type": "markdown",
      "source": [
        "# Task 3\n",
        "\n",
        "- Intro to task 3\n",
        "- Used connection_df (Uoft_edges.csv)\n",
        "- features Task 3c visualization"
      ],
      "metadata": {
        "id": "AojXc25A3526"
      },
      "id": "AojXc25A3526"
    },
    {
      "cell_type": "code",
      "source": [
        "!pip install pyg-lib torch-scatter torch-sparse -f https://data.pyg.org/whl/torch-1.13.0+cu116.html\n",
        "!pip install torch-geometric\n",
        "!pip install 'scipy>=1.8'\n",
        "!pip install pyvis\n",
        "!pip install --upgrade scipy networkx"
      ],
      "metadata": {
        "id": "jLQxTR9cbZz6",
        "outputId": "eb4c48e1-e548-4621-85e8-e2f52563b34e",
        "colab": {
          "base_uri": "https://localhost:8080/"
        }
      },
      "id": "jLQxTR9cbZz6",
      "execution_count": 5,
      "outputs": [
        {
          "output_type": "stream",
          "name": "stdout",
          "text": [
            "Looking in indexes: https://pypi.org/simple, https://us-python.pkg.dev/colab-wheels/public/simple/\n",
            "Looking in links: https://data.pyg.org/whl/torch-1.13.0+cu116.html\n",
            "Requirement already satisfied: pyg-lib in /usr/local/lib/python3.9/dist-packages (0.2.0+pt113cu116)\n",
            "Requirement already satisfied: torch-scatter in /usr/local/lib/python3.9/dist-packages (2.1.1+pt113cu116)\n",
            "Requirement already satisfied: torch-sparse in /usr/local/lib/python3.9/dist-packages (0.6.17+pt113cu116)\n",
            "Requirement already satisfied: scipy in /usr/local/lib/python3.9/dist-packages (from torch-sparse) (1.10.1)\n",
            "Requirement already satisfied: numpy<1.27.0,>=1.19.5 in /usr/local/lib/python3.9/dist-packages (from scipy->torch-sparse) (1.22.4)\n",
            "Looking in indexes: https://pypi.org/simple, https://us-python.pkg.dev/colab-wheels/public/simple/\n",
            "Requirement already satisfied: torch-geometric in /usr/local/lib/python3.9/dist-packages (2.3.0)\n",
            "Requirement already satisfied: requests in /usr/local/lib/python3.9/dist-packages (from torch-geometric) (2.27.1)\n",
            "Requirement already satisfied: pyparsing in /usr/local/lib/python3.9/dist-packages (from torch-geometric) (3.0.9)\n",
            "Requirement already satisfied: scipy in /usr/local/lib/python3.9/dist-packages (from torch-geometric) (1.10.1)\n",
            "Requirement already satisfied: numpy in /usr/local/lib/python3.9/dist-packages (from torch-geometric) (1.22.4)\n",
            "Requirement already satisfied: jinja2 in /usr/local/lib/python3.9/dist-packages (from torch-geometric) (3.1.2)\n",
            "Requirement already satisfied: tqdm in /usr/local/lib/python3.9/dist-packages (from torch-geometric) (4.65.0)\n",
            "Requirement already satisfied: psutil>=5.8.0 in /usr/local/lib/python3.9/dist-packages (from torch-geometric) (5.9.4)\n",
            "Requirement already satisfied: scikit-learn in /usr/local/lib/python3.9/dist-packages (from torch-geometric) (1.2.2)\n",
            "Requirement already satisfied: MarkupSafe>=2.0 in /usr/local/lib/python3.9/dist-packages (from jinja2->torch-geometric) (2.1.2)\n",
            "Requirement already satisfied: charset-normalizer~=2.0.0 in /usr/local/lib/python3.9/dist-packages (from requests->torch-geometric) (2.0.12)\n",
            "Requirement already satisfied: certifi>=2017.4.17 in /usr/local/lib/python3.9/dist-packages (from requests->torch-geometric) (2022.12.7)\n",
            "Requirement already satisfied: idna<4,>=2.5 in /usr/local/lib/python3.9/dist-packages (from requests->torch-geometric) (3.4)\n",
            "Requirement already satisfied: urllib3<1.27,>=1.21.1 in /usr/local/lib/python3.9/dist-packages (from requests->torch-geometric) (1.26.15)\n",
            "Requirement already satisfied: joblib>=1.1.1 in /usr/local/lib/python3.9/dist-packages (from scikit-learn->torch-geometric) (1.1.1)\n",
            "Requirement already satisfied: threadpoolctl>=2.0.0 in /usr/local/lib/python3.9/dist-packages (from scikit-learn->torch-geometric) (3.1.0)\n",
            "Looking in indexes: https://pypi.org/simple, https://us-python.pkg.dev/colab-wheels/public/simple/\n",
            "Requirement already satisfied: scipy>=1.8 in /usr/local/lib/python3.9/dist-packages (1.10.1)\n",
            "Requirement already satisfied: numpy<1.27.0,>=1.19.5 in /usr/local/lib/python3.9/dist-packages (from scipy>=1.8) (1.22.4)\n",
            "Looking in indexes: https://pypi.org/simple, https://us-python.pkg.dev/colab-wheels/public/simple/\n",
            "Requirement already satisfied: pyvis in /usr/local/lib/python3.9/dist-packages (0.3.2)\n",
            "Requirement already satisfied: jsonpickle>=1.4.1 in /usr/local/lib/python3.9/dist-packages (from pyvis) (3.0.1)\n",
            "Requirement already satisfied: networkx>=1.11 in /usr/local/lib/python3.9/dist-packages (from pyvis) (3.0)\n",
            "Requirement already satisfied: jinja2>=2.9.6 in /usr/local/lib/python3.9/dist-packages (from pyvis) (3.1.2)\n",
            "Requirement already satisfied: ipython>=5.3.0 in /usr/local/lib/python3.9/dist-packages (from pyvis) (7.9.0)\n",
            "Requirement already satisfied: decorator in /usr/local/lib/python3.9/dist-packages (from ipython>=5.3.0->pyvis) (4.4.2)\n",
            "Requirement already satisfied: pygments in /usr/local/lib/python3.9/dist-packages (from ipython>=5.3.0->pyvis) (2.14.0)\n",
            "Requirement already satisfied: backcall in /usr/local/lib/python3.9/dist-packages (from ipython>=5.3.0->pyvis) (0.2.0)\n",
            "Requirement already satisfied: traitlets>=4.2 in /usr/local/lib/python3.9/dist-packages (from ipython>=5.3.0->pyvis) (5.7.1)\n",
            "Requirement already satisfied: setuptools>=18.5 in /usr/local/lib/python3.9/dist-packages (from ipython>=5.3.0->pyvis) (67.6.0)\n",
            "Requirement already satisfied: jedi>=0.10 in /usr/local/lib/python3.9/dist-packages (from ipython>=5.3.0->pyvis) (0.18.2)\n",
            "Requirement already satisfied: prompt-toolkit<2.1.0,>=2.0.0 in /usr/local/lib/python3.9/dist-packages (from ipython>=5.3.0->pyvis) (2.0.10)\n",
            "Requirement already satisfied: pickleshare in /usr/local/lib/python3.9/dist-packages (from ipython>=5.3.0->pyvis) (0.7.5)\n",
            "Requirement already satisfied: pexpect in /usr/local/lib/python3.9/dist-packages (from ipython>=5.3.0->pyvis) (4.8.0)\n",
            "Requirement already satisfied: MarkupSafe>=2.0 in /usr/local/lib/python3.9/dist-packages (from jinja2>=2.9.6->pyvis) (2.1.2)\n",
            "Requirement already satisfied: parso<0.9.0,>=0.8.0 in /usr/local/lib/python3.9/dist-packages (from jedi>=0.10->ipython>=5.3.0->pyvis) (0.8.3)\n",
            "Requirement already satisfied: six>=1.9.0 in /usr/local/lib/python3.9/dist-packages (from prompt-toolkit<2.1.0,>=2.0.0->ipython>=5.3.0->pyvis) (1.16.0)\n",
            "Requirement already satisfied: wcwidth in /usr/local/lib/python3.9/dist-packages (from prompt-toolkit<2.1.0,>=2.0.0->ipython>=5.3.0->pyvis) (0.2.6)\n",
            "Requirement already satisfied: ptyprocess>=0.5 in /usr/local/lib/python3.9/dist-packages (from pexpect->ipython>=5.3.0->pyvis) (0.7.0)\n",
            "Looking in indexes: https://pypi.org/simple, https://us-python.pkg.dev/colab-wheels/public/simple/\n",
            "Requirement already satisfied: scipy in /usr/local/lib/python3.9/dist-packages (1.10.1)\n",
            "Requirement already satisfied: networkx in /usr/local/lib/python3.9/dist-packages (3.0)\n",
            "Requirement already satisfied: numpy<1.27.0,>=1.19.5 in /usr/local/lib/python3.9/dist-packages (from scipy) (1.22.4)\n"
          ]
        }
      ]
    },
    {
      "cell_type": "code",
      "source": [
        "import networkx as nx\n",
        "from torch_geometric.loader import DataLoader\n",
        "import torch\n",
        "import pandas as pd\n",
        "import numpy as np\n",
        "import matplotlib.pyplot as plt"
      ],
      "metadata": {
        "id": "u4c3PwfL04RP"
      },
      "id": "u4c3PwfL04RP",
      "execution_count": 6,
      "outputs": []
    },
    {
      "cell_type": "markdown",
      "source": [
        "## Data Loading"
      ],
      "metadata": {
        "id": "ZKNsAfgB3-xw"
      },
      "id": "ZKNsAfgB3-xw"
    },
    {
      "cell_type": "code",
      "execution_count": 7,
      "id": "b4fc0c19-e4ae-48fc-8cc6-a1d7a03f2375",
      "metadata": {
        "id": "b4fc0c19-e4ae-48fc-8cc6-a1d7a03f2375"
      },
      "outputs": [],
      "source": [
        "task_2_df = pd.read_csv('NEW_features_w_customer_id.csv').rename(columns={\"CUSTOMER_ID\":\"customer_id\"}) # extracted from katia_xgboost.ipynb\n",
        "task_2_df[\"customer_id\"] = task_2_df[\"customer_id\"].astype(int)"
      ]
    },
    {
      "cell_type": "code",
      "execution_count": 8,
      "id": "c0fe86cb-16d6-4dfb-834a-bd3d741e5c4b",
      "metadata": {
        "id": "c0fe86cb-16d6-4dfb-834a-bd3d741e5c4b",
        "outputId": "e8bc999e-806c-4a12-fc25-b97744f10e60",
        "colab": {
          "base_uri": "https://localhost:8080/",
          "height": 505
        }
      },
      "outputs": [
        {
          "output_type": "execute_result",
          "data": {
            "text/plain": [
              "        Unnamed: 0  RES_CNTRY_CA  CNTRY_OF_INCOME_CA    PEP_FL  CASH_SUM_IN  \\\n",
              "0                0      0.120507            0.107623 -0.328663    -0.614327   \n",
              "1                1      0.120507            0.107623 -0.328663    -0.591805   \n",
              "2                2      0.120507            0.107623 -0.328663    -0.661574   \n",
              "3                3      0.120507            0.107623 -0.328663    -0.564667   \n",
              "4                4      0.120507            0.107623 -0.328663    -0.656262   \n",
              "...            ...           ...                 ...       ...          ...   \n",
              "999995      999470     -8.298289            0.107623 -0.328663    -0.257978   \n",
              "999996      999676     -8.298289           -9.291725 -0.328663     0.609053   \n",
              "999997      999748     -8.298289            0.107623 -0.328663    -0.371050   \n",
              "999998      999754     -8.298289            0.107623 -0.328663     1.123092   \n",
              "999999      999855     -8.298289            0.107623 -0.328663    -0.007232   \n",
              "\n",
              "        CASH_CNT_IN  CASH_SUM_OUT  CASH_CNT_OUT  WIRES_SUM_IN  WIRES_CNT_IN  \\\n",
              "0         -0.782851     -0.614963     -0.773760     -0.580594     -0.350359   \n",
              "1         -0.782851     -0.556341     -0.390381     -0.543728     -0.140694   \n",
              "2         -0.901526     -0.596031     -0.582071     -0.591566     -1.189021   \n",
              "3         -0.426824     -0.642281     -0.725838     -0.566957     -0.215574   \n",
              "4         -0.782851     -0.304639      0.951445     -0.576850      0.158828   \n",
              "...             ...           ...           ...           ...           ...   \n",
              "999995    -0.189473      0.901319      0.615988      1.042289     -0.185622   \n",
              "999996     0.285229     -0.186069     -0.534149     -0.061281     -1.054236   \n",
              "999997    -0.664175      1.377776      1.095212      2.647045     -0.005909   \n",
              "999998     0.878606     -0.617623     -1.013372      0.125550     -0.440216   \n",
              "999999    -0.426824     -0.205777     -0.629993     -0.564546     -1.189021   \n",
              "\n",
              "        ...  WIRES_CNT_OUT  customer_id  code  CUST_AGE  ACCNT_AGE  \\\n",
              "0       ...      -0.977304       935382    89 -0.520973  -0.291996   \n",
              "1       ...      -0.003588         2305    89 -1.205196  -1.489772   \n",
              "2       ...      -1.102139       472403    89  0.509868  -0.703317   \n",
              "3       ...       0.712135       227994    89 -1.442482   0.301919   \n",
              "4       ...       0.229438       418265    89  1.651392  -0.828454   \n",
              "...     ...            ...          ...   ...       ...        ...   \n",
              "999995  ...      -0.419706       701136   841 -0.172403   0.594181   \n",
              "999996  ...      -0.902402       220596   841 -0.377250  -1.797503   \n",
              "999997  ...       0.928516        89038   841  0.679272   0.138938   \n",
              "999998  ...      -0.652732       805515   841 -0.614986  -0.941436   \n",
              "999999  ...      -1.068850       378697   841  0.007513  -0.183434   \n",
              "\n",
              "        ACCNT_OPEN_LST_YEAR  COUNTRY_RISK_INCOME_CODE  \\\n",
              "0                       1.0                 -0.057616   \n",
              "1                       1.0                 -0.057616   \n",
              "2                       1.0                 -0.057616   \n",
              "3                       1.0                 -0.057616   \n",
              "4                       1.0                 -0.057616   \n",
              "...                     ...                       ...   \n",
              "999995                  1.0                 -0.057616   \n",
              "999996                  0.0                 -0.057616   \n",
              "999997                  1.0                 -0.057616   \n",
              "999998                  1.0                 -0.057616   \n",
              "999999                  1.0                 -0.057616   \n",
              "\n",
              "        COUNTRY_RISK_RESIDENCY_CODE  RISK_CODE  OCPTN_RISK_CODE  \n",
              "0                         -0.099080          0         1.350398  \n",
              "1                         -0.099080          0         1.350398  \n",
              "2                         -0.099080          0         1.350398  \n",
              "3                         -0.099080          0         1.350398  \n",
              "4                         -0.099080          0         1.350398  \n",
              "...                             ...        ...              ...  \n",
              "999995                     5.090803          1         2.395387  \n",
              "999996                     5.090803          1         2.395387  \n",
              "999997                    10.280686          1         2.395387  \n",
              "999998                    10.280686          1         2.395387  \n",
              "999999                    -0.099080          1         2.395387  \n",
              "\n",
              "[1000000 rows x 21 columns]"
            ],
            "text/html": [
              "\n",
              "  <div id=\"df-e1b50438-5023-455c-92a5-5a7a6d222364\">\n",
              "    <div class=\"colab-df-container\">\n",
              "      <div>\n",
              "<style scoped>\n",
              "    .dataframe tbody tr th:only-of-type {\n",
              "        vertical-align: middle;\n",
              "    }\n",
              "\n",
              "    .dataframe tbody tr th {\n",
              "        vertical-align: top;\n",
              "    }\n",
              "\n",
              "    .dataframe thead th {\n",
              "        text-align: right;\n",
              "    }\n",
              "</style>\n",
              "<table border=\"1\" class=\"dataframe\">\n",
              "  <thead>\n",
              "    <tr style=\"text-align: right;\">\n",
              "      <th></th>\n",
              "      <th>Unnamed: 0</th>\n",
              "      <th>RES_CNTRY_CA</th>\n",
              "      <th>CNTRY_OF_INCOME_CA</th>\n",
              "      <th>PEP_FL</th>\n",
              "      <th>CASH_SUM_IN</th>\n",
              "      <th>CASH_CNT_IN</th>\n",
              "      <th>CASH_SUM_OUT</th>\n",
              "      <th>CASH_CNT_OUT</th>\n",
              "      <th>WIRES_SUM_IN</th>\n",
              "      <th>WIRES_CNT_IN</th>\n",
              "      <th>...</th>\n",
              "      <th>WIRES_CNT_OUT</th>\n",
              "      <th>customer_id</th>\n",
              "      <th>code</th>\n",
              "      <th>CUST_AGE</th>\n",
              "      <th>ACCNT_AGE</th>\n",
              "      <th>ACCNT_OPEN_LST_YEAR</th>\n",
              "      <th>COUNTRY_RISK_INCOME_CODE</th>\n",
              "      <th>COUNTRY_RISK_RESIDENCY_CODE</th>\n",
              "      <th>RISK_CODE</th>\n",
              "      <th>OCPTN_RISK_CODE</th>\n",
              "    </tr>\n",
              "  </thead>\n",
              "  <tbody>\n",
              "    <tr>\n",
              "      <th>0</th>\n",
              "      <td>0</td>\n",
              "      <td>0.120507</td>\n",
              "      <td>0.107623</td>\n",
              "      <td>-0.328663</td>\n",
              "      <td>-0.614327</td>\n",
              "      <td>-0.782851</td>\n",
              "      <td>-0.614963</td>\n",
              "      <td>-0.773760</td>\n",
              "      <td>-0.580594</td>\n",
              "      <td>-0.350359</td>\n",
              "      <td>...</td>\n",
              "      <td>-0.977304</td>\n",
              "      <td>935382</td>\n",
              "      <td>89</td>\n",
              "      <td>-0.520973</td>\n",
              "      <td>-0.291996</td>\n",
              "      <td>1.0</td>\n",
              "      <td>-0.057616</td>\n",
              "      <td>-0.099080</td>\n",
              "      <td>0</td>\n",
              "      <td>1.350398</td>\n",
              "    </tr>\n",
              "    <tr>\n",
              "      <th>1</th>\n",
              "      <td>1</td>\n",
              "      <td>0.120507</td>\n",
              "      <td>0.107623</td>\n",
              "      <td>-0.328663</td>\n",
              "      <td>-0.591805</td>\n",
              "      <td>-0.782851</td>\n",
              "      <td>-0.556341</td>\n",
              "      <td>-0.390381</td>\n",
              "      <td>-0.543728</td>\n",
              "      <td>-0.140694</td>\n",
              "      <td>...</td>\n",
              "      <td>-0.003588</td>\n",
              "      <td>2305</td>\n",
              "      <td>89</td>\n",
              "      <td>-1.205196</td>\n",
              "      <td>-1.489772</td>\n",
              "      <td>1.0</td>\n",
              "      <td>-0.057616</td>\n",
              "      <td>-0.099080</td>\n",
              "      <td>0</td>\n",
              "      <td>1.350398</td>\n",
              "    </tr>\n",
              "    <tr>\n",
              "      <th>2</th>\n",
              "      <td>2</td>\n",
              "      <td>0.120507</td>\n",
              "      <td>0.107623</td>\n",
              "      <td>-0.328663</td>\n",
              "      <td>-0.661574</td>\n",
              "      <td>-0.901526</td>\n",
              "      <td>-0.596031</td>\n",
              "      <td>-0.582071</td>\n",
              "      <td>-0.591566</td>\n",
              "      <td>-1.189021</td>\n",
              "      <td>...</td>\n",
              "      <td>-1.102139</td>\n",
              "      <td>472403</td>\n",
              "      <td>89</td>\n",
              "      <td>0.509868</td>\n",
              "      <td>-0.703317</td>\n",
              "      <td>1.0</td>\n",
              "      <td>-0.057616</td>\n",
              "      <td>-0.099080</td>\n",
              "      <td>0</td>\n",
              "      <td>1.350398</td>\n",
              "    </tr>\n",
              "    <tr>\n",
              "      <th>3</th>\n",
              "      <td>3</td>\n",
              "      <td>0.120507</td>\n",
              "      <td>0.107623</td>\n",
              "      <td>-0.328663</td>\n",
              "      <td>-0.564667</td>\n",
              "      <td>-0.426824</td>\n",
              "      <td>-0.642281</td>\n",
              "      <td>-0.725838</td>\n",
              "      <td>-0.566957</td>\n",
              "      <td>-0.215574</td>\n",
              "      <td>...</td>\n",
              "      <td>0.712135</td>\n",
              "      <td>227994</td>\n",
              "      <td>89</td>\n",
              "      <td>-1.442482</td>\n",
              "      <td>0.301919</td>\n",
              "      <td>1.0</td>\n",
              "      <td>-0.057616</td>\n",
              "      <td>-0.099080</td>\n",
              "      <td>0</td>\n",
              "      <td>1.350398</td>\n",
              "    </tr>\n",
              "    <tr>\n",
              "      <th>4</th>\n",
              "      <td>4</td>\n",
              "      <td>0.120507</td>\n",
              "      <td>0.107623</td>\n",
              "      <td>-0.328663</td>\n",
              "      <td>-0.656262</td>\n",
              "      <td>-0.782851</td>\n",
              "      <td>-0.304639</td>\n",
              "      <td>0.951445</td>\n",
              "      <td>-0.576850</td>\n",
              "      <td>0.158828</td>\n",
              "      <td>...</td>\n",
              "      <td>0.229438</td>\n",
              "      <td>418265</td>\n",
              "      <td>89</td>\n",
              "      <td>1.651392</td>\n",
              "      <td>-0.828454</td>\n",
              "      <td>1.0</td>\n",
              "      <td>-0.057616</td>\n",
              "      <td>-0.099080</td>\n",
              "      <td>0</td>\n",
              "      <td>1.350398</td>\n",
              "    </tr>\n",
              "    <tr>\n",
              "      <th>...</th>\n",
              "      <td>...</td>\n",
              "      <td>...</td>\n",
              "      <td>...</td>\n",
              "      <td>...</td>\n",
              "      <td>...</td>\n",
              "      <td>...</td>\n",
              "      <td>...</td>\n",
              "      <td>...</td>\n",
              "      <td>...</td>\n",
              "      <td>...</td>\n",
              "      <td>...</td>\n",
              "      <td>...</td>\n",
              "      <td>...</td>\n",
              "      <td>...</td>\n",
              "      <td>...</td>\n",
              "      <td>...</td>\n",
              "      <td>...</td>\n",
              "      <td>...</td>\n",
              "      <td>...</td>\n",
              "      <td>...</td>\n",
              "      <td>...</td>\n",
              "    </tr>\n",
              "    <tr>\n",
              "      <th>999995</th>\n",
              "      <td>999470</td>\n",
              "      <td>-8.298289</td>\n",
              "      <td>0.107623</td>\n",
              "      <td>-0.328663</td>\n",
              "      <td>-0.257978</td>\n",
              "      <td>-0.189473</td>\n",
              "      <td>0.901319</td>\n",
              "      <td>0.615988</td>\n",
              "      <td>1.042289</td>\n",
              "      <td>-0.185622</td>\n",
              "      <td>...</td>\n",
              "      <td>-0.419706</td>\n",
              "      <td>701136</td>\n",
              "      <td>841</td>\n",
              "      <td>-0.172403</td>\n",
              "      <td>0.594181</td>\n",
              "      <td>1.0</td>\n",
              "      <td>-0.057616</td>\n",
              "      <td>5.090803</td>\n",
              "      <td>1</td>\n",
              "      <td>2.395387</td>\n",
              "    </tr>\n",
              "    <tr>\n",
              "      <th>999996</th>\n",
              "      <td>999676</td>\n",
              "      <td>-8.298289</td>\n",
              "      <td>-9.291725</td>\n",
              "      <td>-0.328663</td>\n",
              "      <td>0.609053</td>\n",
              "      <td>0.285229</td>\n",
              "      <td>-0.186069</td>\n",
              "      <td>-0.534149</td>\n",
              "      <td>-0.061281</td>\n",
              "      <td>-1.054236</td>\n",
              "      <td>...</td>\n",
              "      <td>-0.902402</td>\n",
              "      <td>220596</td>\n",
              "      <td>841</td>\n",
              "      <td>-0.377250</td>\n",
              "      <td>-1.797503</td>\n",
              "      <td>0.0</td>\n",
              "      <td>-0.057616</td>\n",
              "      <td>5.090803</td>\n",
              "      <td>1</td>\n",
              "      <td>2.395387</td>\n",
              "    </tr>\n",
              "    <tr>\n",
              "      <th>999997</th>\n",
              "      <td>999748</td>\n",
              "      <td>-8.298289</td>\n",
              "      <td>0.107623</td>\n",
              "      <td>-0.328663</td>\n",
              "      <td>-0.371050</td>\n",
              "      <td>-0.664175</td>\n",
              "      <td>1.377776</td>\n",
              "      <td>1.095212</td>\n",
              "      <td>2.647045</td>\n",
              "      <td>-0.005909</td>\n",
              "      <td>...</td>\n",
              "      <td>0.928516</td>\n",
              "      <td>89038</td>\n",
              "      <td>841</td>\n",
              "      <td>0.679272</td>\n",
              "      <td>0.138938</td>\n",
              "      <td>1.0</td>\n",
              "      <td>-0.057616</td>\n",
              "      <td>10.280686</td>\n",
              "      <td>1</td>\n",
              "      <td>2.395387</td>\n",
              "    </tr>\n",
              "    <tr>\n",
              "      <th>999998</th>\n",
              "      <td>999754</td>\n",
              "      <td>-8.298289</td>\n",
              "      <td>0.107623</td>\n",
              "      <td>-0.328663</td>\n",
              "      <td>1.123092</td>\n",
              "      <td>0.878606</td>\n",
              "      <td>-0.617623</td>\n",
              "      <td>-1.013372</td>\n",
              "      <td>0.125550</td>\n",
              "      <td>-0.440216</td>\n",
              "      <td>...</td>\n",
              "      <td>-0.652732</td>\n",
              "      <td>805515</td>\n",
              "      <td>841</td>\n",
              "      <td>-0.614986</td>\n",
              "      <td>-0.941436</td>\n",
              "      <td>1.0</td>\n",
              "      <td>-0.057616</td>\n",
              "      <td>10.280686</td>\n",
              "      <td>1</td>\n",
              "      <td>2.395387</td>\n",
              "    </tr>\n",
              "    <tr>\n",
              "      <th>999999</th>\n",
              "      <td>999855</td>\n",
              "      <td>-8.298289</td>\n",
              "      <td>0.107623</td>\n",
              "      <td>-0.328663</td>\n",
              "      <td>-0.007232</td>\n",
              "      <td>-0.426824</td>\n",
              "      <td>-0.205777</td>\n",
              "      <td>-0.629993</td>\n",
              "      <td>-0.564546</td>\n",
              "      <td>-1.189021</td>\n",
              "      <td>...</td>\n",
              "      <td>-1.068850</td>\n",
              "      <td>378697</td>\n",
              "      <td>841</td>\n",
              "      <td>0.007513</td>\n",
              "      <td>-0.183434</td>\n",
              "      <td>1.0</td>\n",
              "      <td>-0.057616</td>\n",
              "      <td>-0.099080</td>\n",
              "      <td>1</td>\n",
              "      <td>2.395387</td>\n",
              "    </tr>\n",
              "  </tbody>\n",
              "</table>\n",
              "<p>1000000 rows × 21 columns</p>\n",
              "</div>\n",
              "      <button class=\"colab-df-convert\" onclick=\"convertToInteractive('df-e1b50438-5023-455c-92a5-5a7a6d222364')\"\n",
              "              title=\"Convert this dataframe to an interactive table.\"\n",
              "              style=\"display:none;\">\n",
              "        \n",
              "  <svg xmlns=\"http://www.w3.org/2000/svg\" height=\"24px\"viewBox=\"0 0 24 24\"\n",
              "       width=\"24px\">\n",
              "    <path d=\"M0 0h24v24H0V0z\" fill=\"none\"/>\n",
              "    <path d=\"M18.56 5.44l.94 2.06.94-2.06 2.06-.94-2.06-.94-.94-2.06-.94 2.06-2.06.94zm-11 1L8.5 8.5l.94-2.06 2.06-.94-2.06-.94L8.5 2.5l-.94 2.06-2.06.94zm10 10l.94 2.06.94-2.06 2.06-.94-2.06-.94-.94-2.06-.94 2.06-2.06.94z\"/><path d=\"M17.41 7.96l-1.37-1.37c-.4-.4-.92-.59-1.43-.59-.52 0-1.04.2-1.43.59L10.3 9.45l-7.72 7.72c-.78.78-.78 2.05 0 2.83L4 21.41c.39.39.9.59 1.41.59.51 0 1.02-.2 1.41-.59l7.78-7.78 2.81-2.81c.8-.78.8-2.07 0-2.86zM5.41 20L4 18.59l7.72-7.72 1.47 1.35L5.41 20z\"/>\n",
              "  </svg>\n",
              "      </button>\n",
              "      \n",
              "  <style>\n",
              "    .colab-df-container {\n",
              "      display:flex;\n",
              "      flex-wrap:wrap;\n",
              "      gap: 12px;\n",
              "    }\n",
              "\n",
              "    .colab-df-convert {\n",
              "      background-color: #E8F0FE;\n",
              "      border: none;\n",
              "      border-radius: 50%;\n",
              "      cursor: pointer;\n",
              "      display: none;\n",
              "      fill: #1967D2;\n",
              "      height: 32px;\n",
              "      padding: 0 0 0 0;\n",
              "      width: 32px;\n",
              "    }\n",
              "\n",
              "    .colab-df-convert:hover {\n",
              "      background-color: #E2EBFA;\n",
              "      box-shadow: 0px 1px 2px rgba(60, 64, 67, 0.3), 0px 1px 3px 1px rgba(60, 64, 67, 0.15);\n",
              "      fill: #174EA6;\n",
              "    }\n",
              "\n",
              "    [theme=dark] .colab-df-convert {\n",
              "      background-color: #3B4455;\n",
              "      fill: #D2E3FC;\n",
              "    }\n",
              "\n",
              "    [theme=dark] .colab-df-convert:hover {\n",
              "      background-color: #434B5C;\n",
              "      box-shadow: 0px 1px 3px 1px rgba(0, 0, 0, 0.15);\n",
              "      filter: drop-shadow(0px 1px 2px rgba(0, 0, 0, 0.3));\n",
              "      fill: #FFFFFF;\n",
              "    }\n",
              "  </style>\n",
              "\n",
              "      <script>\n",
              "        const buttonEl =\n",
              "          document.querySelector('#df-e1b50438-5023-455c-92a5-5a7a6d222364 button.colab-df-convert');\n",
              "        buttonEl.style.display =\n",
              "          google.colab.kernel.accessAllowed ? 'block' : 'none';\n",
              "\n",
              "        async function convertToInteractive(key) {\n",
              "          const element = document.querySelector('#df-e1b50438-5023-455c-92a5-5a7a6d222364');\n",
              "          const dataTable =\n",
              "            await google.colab.kernel.invokeFunction('convertToInteractive',\n",
              "                                                     [key], {});\n",
              "          if (!dataTable) return;\n",
              "\n",
              "          const docLinkHtml = 'Like what you see? Visit the ' +\n",
              "            '<a target=\"_blank\" href=https://colab.research.google.com/notebooks/data_table.ipynb>data table notebook</a>'\n",
              "            + ' to learn more about interactive tables.';\n",
              "          element.innerHTML = '';\n",
              "          dataTable['output_type'] = 'display_data';\n",
              "          await google.colab.output.renderOutput(dataTable, element);\n",
              "          const docLink = document.createElement('div');\n",
              "          docLink.innerHTML = docLinkHtml;\n",
              "          element.appendChild(docLink);\n",
              "        }\n",
              "      </script>\n",
              "    </div>\n",
              "  </div>\n",
              "  "
            ]
          },
          "metadata": {},
          "execution_count": 8
        }
      ],
      "source": [
        "task_2_df"
      ]
    },
    {
      "cell_type": "code",
      "execution_count": 9,
      "id": "0f9f9c79-f1dd-4797-ae8e-8141472a1a29",
      "metadata": {
        "id": "0f9f9c79-f1dd-4797-ae8e-8141472a1a29",
        "outputId": "268cd852-3cb7-4e89-fa16-777034121de2",
        "colab": {
          "base_uri": "https://localhost:8080/",
          "height": 424
        }
      },
      "outputs": [
        {
          "output_type": "execute_result",
          "data": {
            "text/plain": [
              "        customer_id  target          emt\n",
              "32127             7   69883   509.911692\n",
              "32147             7  980973  4984.327973\n",
              "32144             7  314999  2984.836484\n",
              "217572           11  876639  2910.499409\n",
              "450974           25  579365   311.526741\n",
              "...             ...     ...          ...\n",
              "429432      1000672   14024   114.625882\n",
              "463894      1000673  295624   161.419638\n",
              "146306      1000674  721075  2952.622741\n",
              "146297      1000674  595097  1479.290194\n",
              "146311      1000674  637931  2997.529483\n",
              "\n",
              "[466233 rows x 3 columns]"
            ],
            "text/html": [
              "\n",
              "  <div id=\"df-c43cabcb-89d0-46da-9af1-df9d2936e174\">\n",
              "    <div class=\"colab-df-container\">\n",
              "      <div>\n",
              "<style scoped>\n",
              "    .dataframe tbody tr th:only-of-type {\n",
              "        vertical-align: middle;\n",
              "    }\n",
              "\n",
              "    .dataframe tbody tr th {\n",
              "        vertical-align: top;\n",
              "    }\n",
              "\n",
              "    .dataframe thead th {\n",
              "        text-align: right;\n",
              "    }\n",
              "</style>\n",
              "<table border=\"1\" class=\"dataframe\">\n",
              "  <thead>\n",
              "    <tr style=\"text-align: right;\">\n",
              "      <th></th>\n",
              "      <th>customer_id</th>\n",
              "      <th>target</th>\n",
              "      <th>emt</th>\n",
              "    </tr>\n",
              "  </thead>\n",
              "  <tbody>\n",
              "    <tr>\n",
              "      <th>32127</th>\n",
              "      <td>7</td>\n",
              "      <td>69883</td>\n",
              "      <td>509.911692</td>\n",
              "    </tr>\n",
              "    <tr>\n",
              "      <th>32147</th>\n",
              "      <td>7</td>\n",
              "      <td>980973</td>\n",
              "      <td>4984.327973</td>\n",
              "    </tr>\n",
              "    <tr>\n",
              "      <th>32144</th>\n",
              "      <td>7</td>\n",
              "      <td>314999</td>\n",
              "      <td>2984.836484</td>\n",
              "    </tr>\n",
              "    <tr>\n",
              "      <th>217572</th>\n",
              "      <td>11</td>\n",
              "      <td>876639</td>\n",
              "      <td>2910.499409</td>\n",
              "    </tr>\n",
              "    <tr>\n",
              "      <th>450974</th>\n",
              "      <td>25</td>\n",
              "      <td>579365</td>\n",
              "      <td>311.526741</td>\n",
              "    </tr>\n",
              "    <tr>\n",
              "      <th>...</th>\n",
              "      <td>...</td>\n",
              "      <td>...</td>\n",
              "      <td>...</td>\n",
              "    </tr>\n",
              "    <tr>\n",
              "      <th>429432</th>\n",
              "      <td>1000672</td>\n",
              "      <td>14024</td>\n",
              "      <td>114.625882</td>\n",
              "    </tr>\n",
              "    <tr>\n",
              "      <th>463894</th>\n",
              "      <td>1000673</td>\n",
              "      <td>295624</td>\n",
              "      <td>161.419638</td>\n",
              "    </tr>\n",
              "    <tr>\n",
              "      <th>146306</th>\n",
              "      <td>1000674</td>\n",
              "      <td>721075</td>\n",
              "      <td>2952.622741</td>\n",
              "    </tr>\n",
              "    <tr>\n",
              "      <th>146297</th>\n",
              "      <td>1000674</td>\n",
              "      <td>595097</td>\n",
              "      <td>1479.290194</td>\n",
              "    </tr>\n",
              "    <tr>\n",
              "      <th>146311</th>\n",
              "      <td>1000674</td>\n",
              "      <td>637931</td>\n",
              "      <td>2997.529483</td>\n",
              "    </tr>\n",
              "  </tbody>\n",
              "</table>\n",
              "<p>466233 rows × 3 columns</p>\n",
              "</div>\n",
              "      <button class=\"colab-df-convert\" onclick=\"convertToInteractive('df-c43cabcb-89d0-46da-9af1-df9d2936e174')\"\n",
              "              title=\"Convert this dataframe to an interactive table.\"\n",
              "              style=\"display:none;\">\n",
              "        \n",
              "  <svg xmlns=\"http://www.w3.org/2000/svg\" height=\"24px\"viewBox=\"0 0 24 24\"\n",
              "       width=\"24px\">\n",
              "    <path d=\"M0 0h24v24H0V0z\" fill=\"none\"/>\n",
              "    <path d=\"M18.56 5.44l.94 2.06.94-2.06 2.06-.94-2.06-.94-.94-2.06-.94 2.06-2.06.94zm-11 1L8.5 8.5l.94-2.06 2.06-.94-2.06-.94L8.5 2.5l-.94 2.06-2.06.94zm10 10l.94 2.06.94-2.06 2.06-.94-2.06-.94-.94-2.06-.94 2.06-2.06.94z\"/><path d=\"M17.41 7.96l-1.37-1.37c-.4-.4-.92-.59-1.43-.59-.52 0-1.04.2-1.43.59L10.3 9.45l-7.72 7.72c-.78.78-.78 2.05 0 2.83L4 21.41c.39.39.9.59 1.41.59.51 0 1.02-.2 1.41-.59l7.78-7.78 2.81-2.81c.8-.78.8-2.07 0-2.86zM5.41 20L4 18.59l7.72-7.72 1.47 1.35L5.41 20z\"/>\n",
              "  </svg>\n",
              "      </button>\n",
              "      \n",
              "  <style>\n",
              "    .colab-df-container {\n",
              "      display:flex;\n",
              "      flex-wrap:wrap;\n",
              "      gap: 12px;\n",
              "    }\n",
              "\n",
              "    .colab-df-convert {\n",
              "      background-color: #E8F0FE;\n",
              "      border: none;\n",
              "      border-radius: 50%;\n",
              "      cursor: pointer;\n",
              "      display: none;\n",
              "      fill: #1967D2;\n",
              "      height: 32px;\n",
              "      padding: 0 0 0 0;\n",
              "      width: 32px;\n",
              "    }\n",
              "\n",
              "    .colab-df-convert:hover {\n",
              "      background-color: #E2EBFA;\n",
              "      box-shadow: 0px 1px 2px rgba(60, 64, 67, 0.3), 0px 1px 3px 1px rgba(60, 64, 67, 0.15);\n",
              "      fill: #174EA6;\n",
              "    }\n",
              "\n",
              "    [theme=dark] .colab-df-convert {\n",
              "      background-color: #3B4455;\n",
              "      fill: #D2E3FC;\n",
              "    }\n",
              "\n",
              "    [theme=dark] .colab-df-convert:hover {\n",
              "      background-color: #434B5C;\n",
              "      box-shadow: 0px 1px 3px 1px rgba(0, 0, 0, 0.15);\n",
              "      filter: drop-shadow(0px 1px 2px rgba(0, 0, 0, 0.3));\n",
              "      fill: #FFFFFF;\n",
              "    }\n",
              "  </style>\n",
              "\n",
              "      <script>\n",
              "        const buttonEl =\n",
              "          document.querySelector('#df-c43cabcb-89d0-46da-9af1-df9d2936e174 button.colab-df-convert');\n",
              "        buttonEl.style.display =\n",
              "          google.colab.kernel.accessAllowed ? 'block' : 'none';\n",
              "\n",
              "        async function convertToInteractive(key) {\n",
              "          const element = document.querySelector('#df-c43cabcb-89d0-46da-9af1-df9d2936e174');\n",
              "          const dataTable =\n",
              "            await google.colab.kernel.invokeFunction('convertToInteractive',\n",
              "                                                     [key], {});\n",
              "          if (!dataTable) return;\n",
              "\n",
              "          const docLinkHtml = 'Like what you see? Visit the ' +\n",
              "            '<a target=\"_blank\" href=https://colab.research.google.com/notebooks/data_table.ipynb>data table notebook</a>'\n",
              "            + ' to learn more about interactive tables.';\n",
              "          element.innerHTML = '';\n",
              "          dataTable['output_type'] = 'display_data';\n",
              "          await google.colab.output.renderOutput(dataTable, element);\n",
              "          const docLink = document.createElement('div');\n",
              "          docLink.innerHTML = docLinkHtml;\n",
              "          element.appendChild(docLink);\n",
              "        }\n",
              "      </script>\n",
              "    </div>\n",
              "  </div>\n",
              "  "
            ]
          },
          "metadata": {},
          "execution_count": 9
        }
      ],
      "source": [
        "connections_data = pd.read_csv(\"UofT_edges.csv\")\n",
        "connections_df = pd.DataFrame(connections_data).sort_values(by=\"source\").rename(columns={\"source\":\"customer_id\"})\n",
        "connections_df['customer_id'] = connections_df['customer_id'].astype(int)\n",
        "connections_df['target'] = connections_df['target'].astype(int)\n",
        "connections_df"
      ]
    },
    {
      "cell_type": "code",
      "source": [
        "uniq_source = np.unique(connections_df[\"customer_id\"].values)\n",
        "uniq_target = np.unique(connections_df[\"target\"].values)\n",
        "\n",
        "total_uniq = np.concatenate((uniq_source, uniq_target))"
      ],
      "metadata": {
        "id": "57hjRlALebI6"
      },
      "id": "57hjRlALebI6",
      "execution_count": 10,
      "outputs": []
    },
    {
      "cell_type": "code",
      "source": [
        "print(\"Total Amount of unique nodes in connection_df (Uoft_edges.csv):\", len(np.unique(total_uniq)))"
      ],
      "metadata": {
        "colab": {
          "base_uri": "https://localhost:8080/"
        },
        "id": "5W1RCyeVfGTg",
        "outputId": "4a6e6481-e151-4333-fcd6-15a496daba91"
      },
      "id": "5W1RCyeVfGTg",
      "execution_count": 11,
      "outputs": [
        {
          "output_type": "stream",
          "name": "stdout",
          "text": [
            "Total Amount of unique nodes in connection_df (Uoft_edges.csv): 361178\n"
          ]
        }
      ]
    },
    {
      "cell_type": "code",
      "execution_count": 12,
      "id": "e34127e6-9f3a-4c83-a916-3df8dd131640",
      "metadata": {
        "id": "e34127e6-9f3a-4c83-a916-3df8dd131640"
      },
      "outputs": [],
      "source": [
        "mapping = {}\n",
        "for i, cust_id in enumerate(task_2_df[\"customer_id\"].values):\n",
        "    mapping[cust_id] = i"
      ]
    },
    {
      "cell_type": "code",
      "execution_count": 13,
      "id": "7adabfde-a114-4e38-aac5-344d09ad51bc",
      "metadata": {
        "id": "7adabfde-a114-4e38-aac5-344d09ad51bc"
      },
      "outputs": [],
      "source": [
        "task_2_df['customer_id']=task_2_df.customer_id.map(mapping)\n",
        "connections_df['customer_id']=connections_df.customer_id.map(mapping)\n",
        "connections_df['target']=connections_df.target.map(mapping)"
      ]
    },
    {
      "cell_type": "markdown",
      "id": "e65d7904-6f40-4662-ace2-febc57e749c5",
      "metadata": {
        "id": "e65d7904-6f40-4662-ace2-febc57e749c5"
      },
      "source": [
        "### Verify graph data nodes and edges in pytorch geometric form:\n",
        "\n",
        "x – Node feature matrix [customer_id, age, risk, etc..]\n",
        "\n",
        "edge_index – edge connections (source to target) [2, num_edges] \n",
        "\n",
        "edge_attr – money transfers (dollars) [num_edges, num_edge_features]"
      ]
    },
    {
      "cell_type": "code",
      "execution_count": 14,
      "id": "381777f6-95a7-4519-9601-1c6baeaa1a5c",
      "metadata": {
        "id": "381777f6-95a7-4519-9601-1c6baeaa1a5c"
      },
      "outputs": [],
      "source": [
        "x = torch.tensor(task_2_df[[\"customer_id\", \"COUNTRY_RISK_RESIDENCY_CODE\"]].values)"
      ]
    },
    {
      "cell_type": "code",
      "execution_count": 15,
      "id": "d5c6aa59-f977-4241-af23-e55b7cc37429",
      "metadata": {
        "id": "d5c6aa59-f977-4241-af23-e55b7cc37429"
      },
      "outputs": [],
      "source": [
        "edge_index = torch.tensor(connections_df[[\"customer_id\", \"target\"]].values.T)"
      ]
    },
    {
      "cell_type": "code",
      "execution_count": 16,
      "id": "dcc97b6d-1cc6-423e-8457-522581d25ec6",
      "metadata": {
        "id": "dcc97b6d-1cc6-423e-8457-522581d25ec6"
      },
      "outputs": [],
      "source": [
        "edge_attr = torch.tensor(connections_df[\"emt\"].values)"
      ]
    },
    {
      "cell_type": "code",
      "execution_count": 17,
      "id": "53181971-f910-4763-8cda-e73826beb973",
      "metadata": {
        "id": "53181971-f910-4763-8cda-e73826beb973"
      },
      "outputs": [],
      "source": [
        "from torch_geometric.data import Data\n",
        "\n",
        "data = Data(x=x, edge_index=edge_index, edge_attr=edge_attr)"
      ]
    },
    {
      "cell_type": "markdown",
      "source": [
        "### Data Verification"
      ],
      "metadata": {
        "id": "EZoDuNcu4D23"
      },
      "id": "EZoDuNcu4D23"
    },
    {
      "cell_type": "code",
      "execution_count": 18,
      "id": "6462240a-3b96-42b9-9ffd-62ec983e57f6",
      "metadata": {
        "id": "6462240a-3b96-42b9-9ffd-62ec983e57f6",
        "outputId": "28bdd90d-4506-4c2f-8bf0-8873b1fdd7ac",
        "colab": {
          "base_uri": "https://localhost:8080/"
        }
      },
      "outputs": [
        {
          "output_type": "execute_result",
          "data": {
            "text/plain": [
              "1000000"
            ]
          },
          "metadata": {},
          "execution_count": 18
        }
      ],
      "source": [
        "data.num_nodes"
      ]
    },
    {
      "cell_type": "code",
      "execution_count": 19,
      "id": "78220c9b-42a8-49d3-bb16-035347196554",
      "metadata": {
        "id": "78220c9b-42a8-49d3-bb16-035347196554",
        "outputId": "cdb230ec-eb94-4436-eacc-32adec514d51",
        "colab": {
          "base_uri": "https://localhost:8080/"
        }
      },
      "outputs": [
        {
          "output_type": "execute_result",
          "data": {
            "text/plain": [
              "True"
            ]
          },
          "metadata": {},
          "execution_count": 19
        }
      ],
      "source": [
        "data.validate()"
      ]
    },
    {
      "cell_type": "code",
      "execution_count": 20,
      "id": "e77d8436-c825-45ab-bd49-01ebacb759d1",
      "metadata": {
        "id": "e77d8436-c825-45ab-bd49-01ebacb759d1",
        "outputId": "c85fb544-b47e-42ad-917e-1bcde67386ba",
        "colab": {
          "base_uri": "https://localhost:8080/"
        }
      },
      "outputs": [
        {
          "output_type": "execute_result",
          "data": {
            "text/plain": [
              "True"
            ]
          },
          "metadata": {},
          "execution_count": 20
        }
      ],
      "source": [
        "data.is_directed()"
      ]
    },
    {
      "cell_type": "code",
      "execution_count": 21,
      "id": "b54c616f-5a3d-42dd-b58a-d40f25a38d91",
      "metadata": {
        "id": "b54c616f-5a3d-42dd-b58a-d40f25a38d91"
      },
      "outputs": [],
      "source": [
        "loader = DataLoader(data, batch_size=32, shuffle=True)"
      ]
    },
    {
      "cell_type": "code",
      "source": [
        "data.edge_attr"
      ],
      "metadata": {
        "id": "bqLDR56wiOe0",
        "outputId": "a9235997-8657-4a7e-dbbb-1e246cfbb9cd",
        "colab": {
          "base_uri": "https://localhost:8080/"
        }
      },
      "id": "bqLDR56wiOe0",
      "execution_count": 22,
      "outputs": [
        {
          "output_type": "execute_result",
          "data": {
            "text/plain": [
              "tensor([ 509.9117, 4984.3280, 2984.8365,  ..., 2952.6227, 1479.2902,\n",
              "        2997.5295], dtype=torch.float64)"
            ]
          },
          "metadata": {},
          "execution_count": 22
        }
      ]
    },
    {
      "cell_type": "code",
      "source": [
        "max_edge = data.edge_attr.max()\n",
        "min_edge = data.edge_attr.min()\n",
        "mean_edge = data.edge_attr.mean()"
      ],
      "metadata": {
        "id": "M9gevEyf07UF"
      },
      "id": "M9gevEyf07UF",
      "execution_count": 23,
      "outputs": []
    },
    {
      "cell_type": "code",
      "source": [
        "print(\"EMT: Max = {}, Min = {}, Mean = {}\".format(max_edge, min_edge, mean_edge))"
      ],
      "metadata": {
        "colab": {
          "base_uri": "https://localhost:8080/"
        },
        "id": "-q_9RZjAimav",
        "outputId": "68a0f8c7-4732-4384-9510-dbf11a6e3b82"
      },
      "id": "-q_9RZjAimav",
      "execution_count": 24,
      "outputs": [
        {
          "output_type": "stream",
          "name": "stdout",
          "text": [
            "EMT: Max = 5394.814418136593, Min = 56.91276323887504, Mean = 1080.3400282148295\n"
          ]
        }
      ]
    },
    {
      "cell_type": "code",
      "source": [
        "risk_id = task_2_df[[\"customer_id\", \"COUNTRY_RISK_RESIDENCY_CODE\"]]\n",
        "risk_id[\"source\"] = task_2_df[\"customer_id\"]"
      ],
      "metadata": {
        "id": "113jm-f32aBb",
        "outputId": "4b69372c-d713-4909-d8fc-5e87ee247761",
        "colab": {
          "base_uri": "https://localhost:8080/"
        }
      },
      "id": "113jm-f32aBb",
      "execution_count": 25,
      "outputs": [
        {
          "output_type": "stream",
          "name": "stderr",
          "text": [
            "<ipython-input-25-c29f18407e08>:2: SettingWithCopyWarning: \n",
            "A value is trying to be set on a copy of a slice from a DataFrame.\n",
            "Try using .loc[row_indexer,col_indexer] = value instead\n",
            "\n",
            "See the caveats in the documentation: https://pandas.pydata.org/pandas-docs/stable/user_guide/indexing.html#returning-a-view-versus-a-copy\n",
            "  risk_id[\"source\"] = task_2_df[\"customer_id\"]\n"
          ]
        }
      ]
    },
    {
      "cell_type": "markdown",
      "source": [
        "# Created function for tree depth in Connection Dataframe"
      ],
      "metadata": {
        "id": "1OacFo_i8ENO"
      },
      "id": "1OacFo_i8ENO"
    },
    {
      "cell_type": "code",
      "source": [
        "def count_number_of_people_in_tree(origin_id, level_depth):\n",
        "    \"\"\"\n",
        "    Count number of people in a tree (searches down the tree) for a given customer id and max level depth\n",
        "    \"\"\"\n",
        "    list_id = [origin_id]\n",
        "    level = 1\n",
        "    df_sub_graphs = []\n",
        "\n",
        "    while level <= level_depth:\n",
        "        all_sub_level_targets = []\n",
        "        for cust_id in list_id:\n",
        "            sub_level_targets = connections_data[connections_data[\"source\"]==cust_id][\"target\"].tolist()\n",
        "            emts = connections_data[connections_data[\"source\"]==cust_id][\"emt\"].tolist()\n",
        "            data = np.array([[cust_id] * len(sub_level_targets), sub_level_targets, [level]*len(sub_level_targets), emts]).T\n",
        "            df_sub_graphs.append(pd.DataFrame(columns=[\"source\", \"target\", \"level\", \"emt\"], data=data))\n",
        "            all_sub_level_targets += sub_level_targets\n",
        "        level += 1\n",
        "        list_id = all_sub_level_targets\n",
        "\n",
        "    return pd.concat(df_sub_graphs)#[\"target\"].unique().shape[0]"
      ],
      "metadata": {
        "id": "sLKFzCJ77QRm"
      },
      "id": "sLKFzCJ77QRm",
      "execution_count": 26,
      "outputs": []
    },
    {
      "cell_type": "code",
      "source": [
        "source_id = connections_data.source"
      ],
      "metadata": {
        "id": "Xq4h_GEn_dVu"
      },
      "id": "Xq4h_GEn_dVu",
      "execution_count": 27,
      "outputs": []
    },
    {
      "cell_type": "code",
      "source": [
        "risk_id[\"COUNTRY_RISK_RESIDENCY_CODE\"].unique()"
      ],
      "metadata": {
        "colab": {
          "base_uri": "https://localhost:8080/"
        },
        "id": "gDxrvioNAFrK",
        "outputId": "10f1a04c-61b2-4291-fd13-a4f021d7589a"
      },
      "id": "gDxrvioNAFrK",
      "execution_count": 28,
      "outputs": [
        {
          "output_type": "execute_result",
          "data": {
            "text/plain": [
              "array([-0.09908006,  5.0908031 , 10.28068627])"
            ]
          },
          "metadata": {},
          "execution_count": 28
        }
      ]
    },
    {
      "cell_type": "code",
      "source": [
        "temp = count_number_of_people_in_tree(origin_id=983859.0, level_depth=10)\n",
        "temp = temp.reset_index()"
      ],
      "metadata": {
        "id": "iQ-eB5W37Tbt"
      },
      "id": "iQ-eB5W37Tbt",
      "execution_count": 29,
      "outputs": []
    },
    {
      "cell_type": "code",
      "source": [
        "merged_df = pd.merge(temp, risk_id, on='source', how='inner')\n",
        "merged_df[\"COUNTRY_RISK_RESIDENCY_CODE\"].unique()\n"
      ],
      "metadata": {
        "colab": {
          "base_uri": "https://localhost:8080/"
        },
        "id": "rd9dmNyJ7JbP",
        "outputId": "32841ee5-b1e0-46c8-fe45-45b38185ceb7"
      },
      "id": "rd9dmNyJ7JbP",
      "execution_count": 30,
      "outputs": [
        {
          "output_type": "execute_result",
          "data": {
            "text/plain": [
              "array([-0.09908006])"
            ]
          },
          "metadata": {},
          "execution_count": 30
        }
      ]
    },
    {
      "cell_type": "code",
      "source": [
        "# for source in source_id:\n",
        "#   temp = count_number_of_people_in_tree(origin_id=source, level_depth=10)\n",
        "#   temp = temp.reset_index()\n",
        "#   merged_df = pd.merge(temp, risk_id, on='source', how='inner')\n",
        "#   num = merged_df[\"COUNTRY_RISK_RESIDENCY_CODE\"].unique()\n",
        "  \n",
        "#   if len(num) >= 2:\n",
        "#     print(\"\", source)"
      ],
      "metadata": {
        "id": "wl4Ze10gBveI"
      },
      "id": "wl4Ze10gBveI",
      "execution_count": 34,
      "outputs": []
    },
    {
      "cell_type": "markdown",
      "source": [
        "# Graph Visualization (NetworkX/pyvis)\n",
        "- Visualized EMT branching from desired Source to Target"
      ],
      "metadata": {
        "id": "7RgTyqsM2VxG"
      },
      "id": "7RgTyqsM2VxG"
    },
    {
      "cell_type": "markdown",
      "source": [],
      "metadata": {
        "id": "i0u3tWjOC8iR"
      },
      "id": "i0u3tWjOC8iR"
    },
    {
      "cell_type": "code",
      "source": [
        "new_source_id = [7.0, 999042, 998874.0]"
      ],
      "metadata": {
        "id": "lV_lqM1336Ph"
      },
      "id": "lV_lqM1336Ph",
      "execution_count": null,
      "outputs": []
    },
    {
      "cell_type": "code",
      "source": [
        "from pyvis.physics import Physics\n",
        "from pyvis.network import Network\n",
        "\n",
        "for i, source in enumerate(new_source_id):\n",
        "  if i > 2:\n",
        "      break\n",
        "  temp = count_number_of_people_in_tree(origin_id=source, level_depth=10)\n",
        "  temp = temp.reset_index()\n",
        "  merged_df = pd.merge(temp, risk_id, on='source', how='inner')\n",
        "  source_data = merged_df[\"source\"]\n",
        "  target_data = merged_df[\"target\"]\n",
        "  emt_data = merged_df[\"emt\"]\n",
        "  risk_data = merged_df[\"COUNTRY_RISK_RESIDENCY_CODE\"]\n",
        "  level_data = merged_df[\"level\"]\n",
        "  names = []\n",
        "  num_list = [len(merged_df)]\n",
        "\n",
        "  for num in num_list:\n",
        "    G = nx.Graph()\n",
        "    for row in range(num):\n",
        "      node1 = int(source_data[row])\n",
        "      node2 = int(target_data[row])\n",
        "      emt = int(emt_data[row])\n",
        "      color = int(risk_data[row])\n",
        "      G.add_node(node1, risk=color, label=node1)\n",
        "      G.add_node(node2, risk=color, label=node2)\n",
        "      G.add_edge(node1, node2)\n",
        "      names.append((node1,node2))\n",
        "\n",
        "    # Load the graph object into the Network object\n",
        "    G.add_edges_from(names)\n",
        "    G2 = Network(directed=True)\n",
        "    G2.from_nx(G)\n",
        "    \n",
        "    color_map = nx.get_node_attributes(G, 'risk')\n",
        "    neighbor_map = G2.get_adj_list()\n",
        "    \n",
        "    for key in color_map:\n",
        "      if key == source:\n",
        "        color_map[key] = 'purple'\n",
        "      elif color_map[key] == int(np.unique(risk_data)[0]):\n",
        "        color_map[key] = 'green'\n",
        "      elif color_map[key] == int(np.unique(risk_data)[1]):  \n",
        "        color_map[key] = 'orange'\n",
        "      elif color_map[key] == int(np.unique(risk_data)[2]):  \n",
        "        color_map[key] = 'red'  \n",
        "\n",
        "    for node in G2.nodes:\n",
        "        node[\"value\"] = len(neighbor_map[node[\"id\"]])  #larger node: more neighbours\n",
        "        node[\"color\"] = color_map[node['id']]\n",
        "        node[\"label\"] = str(node['id'])\n",
        "\n",
        "    G2.inherit_edge_colors(True)\n",
        "    # Show the visualization\n",
        "    name = \"/content/nx{}.html\".format(i)\n",
        "    #G2.show_buttons(filter_=['physics'])\n",
        "    G2.force_atlas_2based()\n",
        "    G2.show(name, local=True, notebook=False)"
      ],
      "metadata": {
        "id": "uqQSsxj11Vvf"
      },
      "id": "uqQSsxj11Vvf",
      "execution_count": null,
      "outputs": []
    },
    {
      "cell_type": "markdown",
      "source": [
        "### Will save graph data locally "
      ],
      "metadata": {
        "id": "UhHMd0kk8gO6"
      },
      "id": "UhHMd0kk8gO6"
    }
  ],
  "metadata": {
    "kernelspec": {
      "display_name": "Python 3 (ipykernel)",
      "language": "python",
      "name": "python3"
    },
    "language_info": {
      "codemirror_mode": {
        "name": "ipython",
        "version": 3
      },
      "file_extension": ".py",
      "mimetype": "text/x-python",
      "name": "python",
      "nbconvert_exporter": "python",
      "pygments_lexer": "ipython3",
      "version": "3.10.8"
    },
    "colab": {
      "provenance": [],
      "include_colab_link": true
    },
    "accelerator": "GPU",
    "gpuClass": "standard"
  },
  "nbformat": 4,
  "nbformat_minor": 5
}